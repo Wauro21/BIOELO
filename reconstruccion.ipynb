{
 "cells": [
  {
   "attachments": {},
   "cell_type": "markdown",
   "metadata": {},
   "source": [
    "# Reconstruccion testing"
   ]
  },
  {
   "cell_type": "code",
   "execution_count": null,
   "metadata": {},
   "outputs": [],
   "source": [
    "import cv2\n",
    "import matplotlib.pyplot as plt\n",
    "import numpy as np\n",
    "from brian2 import *"
   ]
  },
  {
   "cell_type": "code",
   "execution_count": null,
   "metadata": {},
   "outputs": [],
   "source": [
    "img = cv2.imread('images/g_tiger.jpg',0)\n",
    "\n",
    "plt.imshow(img,cmap='gray')\n"
   ]
  },
  {
   "attachments": {},
   "cell_type": "markdown",
   "metadata": {},
   "source": [
    "## Generacion corriente I\n",
    "\n",
    "Para generar las corrientes $I(x,y)$ se utiliza el kernel de convolución $D(x,y)$ el cual se define como:\n",
    "\n",
    "$$ D(x,y) = \\frac{1}{2\\pi \\sigma^{2}_{c}} \\cdot e^{-\\frac{x^{2}+y^{2}}{2\\sigma_{c}^{2}}} - \\frac{1}{2\\pi \\sigma^{2}_{s}} \\cdot e^{-\\frac{x^{2}+y^{2}}{2\\sigma_{s}^{2}}} $$\n",
    "\n",
    "Se selecciona un tamaño de $3 \\times 3$ para el Kernel, con un strid de 1. Note que $D(x,y)$ puede ser interpretado como una diferencia de Gaussianas. \n"
   ]
  },
  {
   "cell_type": "code",
   "execution_count": null,
   "metadata": {},
   "outputs": [],
   "source": [
    "img = img.astype(np.float32)\n",
    "\n",
    "sigma_c1 = 1.5\n",
    "sigma_s1 = 3\n",
    "\n",
    "kernel_size = 15\n",
    "# Normalize the pixel values to 0-1\n",
    "\n",
    "center = cv2.GaussianBlur(img, (kernel_size,kernel_size), sigma_c1)\n",
    "surround = cv2.GaussianBlur(img, (kernel_size,kernel_size), sigma_s1)\n",
    "DoG = center - surround\n",
    "\n",
    "fig, axs = plt.subplots(1,4)\n",
    "\n",
    "# Original\n",
    "axs[0].imshow(img,cmap='gray')\n",
    "axs[0].set_title('Original')\n",
    "# Center \n",
    "axs[1].imshow(center, cmap='gray')\n",
    "axs[1].set_title('Centro')\n",
    "#Surround \n",
    "axs[2].imshow(surround, cmap='gray')\n",
    "axs[2].set_title('Surround')\n",
    "#DoG\n",
    "axs[3].imshow(DoG, cmap='gray')\n",
    "axs[3].set_title('Surround')\n",
    "\n",
    "plt.show()\n",
    "\n",
    "print('Center shape: {}'.format(center.shape))\n",
    "print('Surround shape: {}'.format(surround.shape))"
   ]
  },
  {
   "attachments": {},
   "cell_type": "markdown",
   "metadata": {},
   "source": [
    "## Conversión a Corriente"
   ]
  },
  {
   "cell_type": "code",
   "execution_count": null,
   "metadata": {},
   "outputs": [],
   "source": [
    "factor = (1)\n",
    "r = 1\n",
    "I_ON = factor*DoG\n",
    "I_OFF = factor*(-1)*DoG\n",
    "v0_ON_vals = r*I_ON*mV\n",
    "v0_OFF_vals = r*I_OFF*mV\n",
    "\n",
    "print(v0_OFF_vals.shape)"
   ]
  },
  {
   "attachments": {},
   "cell_type": "markdown",
   "metadata": {},
   "source": [
    "## Redes ON/OFF"
   ]
  },
  {
   "cell_type": "code",
   "execution_count": null,
   "metadata": {},
   "outputs": [],
   "source": [
    "start_scope()\n",
    "n = 4096\n",
    "duration = 1*second\n",
    "tau = 10*ms\n",
    "vt = 3*mV\n",
    "\n",
    "coor_spikes = {}\n",
    "\n",
    "eqs = '''\n",
    "dv/dt = (v0 - v) / tau : volt (unless refractory)\n",
    "v0 : volt\n",
    "x: 1\n",
    "y: 1\n",
    "'''\n",
    "G = NeuronGroup(n, eqs, threshold='v>vt', reset='v= 0*mV', refractory=5*ms, method='exact')\n",
    "ON = G[0:n//2]\n",
    "OFF = G[n//2:n]\n",
    "\n",
    "G.v0 = np.zeros((1,n))\n",
    "G.x = np.zeros((1,n)) \n",
    "G.y = np.zeros((1,n)) \n",
    "\n",
    "### REVISAAAAAR\n",
    "for m in range(n//2):\n",
    "    k = np.random.randint(0,200,dtype=int)\n",
    "    j = np.random.randint(0,200,dtype=int)\n",
    "    G.x[m] = k\n",
    "    G.y[m] = j\n",
    "    ON.v0[m] = v0_ON_vals[k][j]\n",
    "    OFF.v0[m] = v0_OFF_vals[k][j]\n",
    "\n",
    "    \n",
    "spikes = SpikeMonitor(G)\n",
    "\n",
    "run(duration)\n",
    "\n",
    "#figure(figsize=(12,4))\n",
    "fig, axs = plt.subplots(2,2)\n",
    "\n",
    "# ON - spikes per neuron\n",
    "axs[0][0].plot(spikes.t/ms, spikes.i, '.k')\n",
    "axs[0][0].set_xlabel('Time (ms)')\n",
    "axs[0][0].set_ylabel('Neuron index')\n",
    "axs[0][0].set_title('ON: Spikes per Neuron')\n",
    "# ON - firing rate\n",
    "axs[0][1].scatter(G.v0, spikes.count/duration)\n",
    "axs[0][1].set_xlabel('v0 (Volts)')\n",
    "axs[0][1].set_ylabel('Firing rate (sp/s)')\n",
    "axs[0][1].set_title('ON: Firing rate')  \n",
    "axs[0][1].axvline(x=float(vt), color='r', label='V_t')\n",
    "axs[0][1].legend()\n",
    "\n",
    "# OFF - spikes per neuron\n",
    "axs[1][0].plot(spikes.t/ms, spikes.i, '.k')\n",
    "axs[1][0].set_xlabel('Time (ms)')\n",
    "axs[1][0].set_ylabel('Neuron index')\n",
    "axs[1][0].set_title('OFF: Spikes per Neuron')\n",
    "# ON - firing rate\n",
    "axs[1][1].scatter(G.v0, spikes.count/duration)\n",
    "axs[1][1].set_xlabel('v0 (Volts)')\n",
    "axs[1][1].set_ylabel('Firing rate (sp/s)')\n",
    "axs[1][1].set_title('OFF: Firing rate')\n",
    "axs[1][1].axvline(x=float(vt), color='r', label='V_t')\n",
    "axs[1][1].legend()  \n",
    "\n",
    "plt.tight_layout()\n",
    "plt.show()"
   ]
  },
  {
   "cell_type": "code",
   "execution_count": null,
   "metadata": {},
   "outputs": [],
   "source": [
    "def LUT_generator(monitor,neuron_number= 600):\n",
    "    LUT = {}\n",
    "    ordered_neurons = {}\n",
    "    neurons_spikes = {}\n",
    "    base_dict = monitor.all_values()['t']\n",
    "    t_spikes = 0\n",
    "    # Check neurons that generated spikes\n",
    "    for neuron in base_dict.keys():\n",
    "        spike_times = base_dict[neuron]\n",
    "        spike_times.sort()\n",
    "        n_spikes = len(spike_times)\n",
    "        if(n_spikes > 0):\n",
    "            ordered_neurons[neuron] = spike_times[0]\n",
    "            neurons_spikes[neuron] = n_spikes\n",
    "            t_spikes += n_spikes\n",
    "\n",
    "    sorted_neurons = sorted(ordered_neurons.items(), key=lambda x:x[1])\n",
    "    \n",
    "    for neuron in sorted_neurons:\n",
    "        neuron = neuron[0]\n",
    "        LUT[neuron] = np.uint8(neurons_spikes[neuron])#75*neuron s_spikes[neuron]#(127*neurons_spikes[neuron]/t_spikes)\n",
    "\n",
    "\n",
    "\n",
    "    return LUT\n",
    "\n",
    "LUT = LUT_generator(spikes)\n"
   ]
  },
  {
   "cell_type": "code",
   "execution_count": null,
   "metadata": {},
   "outputs": [],
   "source": [
    "gray_img = 128*np.ones( (200,200,1), dtype=np.uint8)\n",
    "#print(LUT.keys())\n",
    "count = 0\n",
    "for neuron in LUT:\n",
    "    if(count == 600):\n",
    "        break\n",
    "    count +=1\n",
    "\n",
    "    temp_sum = int(gray_img[int(G.x[neuron])][ int(G.y[neuron])])\n",
    "    if (neuron >= 2048):\n",
    "        if(temp_sum - LUT[neuron] <0):\n",
    "            gray_img[int(G.x[neuron])][ int(G.y[neuron])] = 0\n",
    "        else:\n",
    "            gray_img[int(G.x[neuron])][ int(G.y[neuron])] -= LUT[neuron]\n",
    "    else:\n",
    "        if(temp_sum + LUT[neuron] > 255):\n",
    "            gray_img[int(G.x[neuron])][ int(G.y[neuron])] = 255\n",
    "        else:\n",
    "            gray_img[int(G.x[neuron])][ int(G.y[neuron])] += LUT[neuron]\n",
    "\n",
    "C_POST = cv2.GaussianBlur(gray_img, (kernel_size,kernel_size), sigma_c1)\n",
    "S_POST = cv2.GaussianBlur(gray_img, (kernel_size,kernel_size), sigma_s1)\n",
    "DoG_POST = C_POST - S_POST\n",
    "\n",
    "plt.imshow(gray_img, cmap=plt.get_cmap('gray'),vmin=0,vmax=255)\n",
    "plt.show()"
   ]
  },
  {
   "cell_type": "code",
   "execution_count": null,
   "metadata": {},
   "outputs": [],
   "source": [
    "print('POR LA CHUCHA ')\n",
    "# AYUDAME "
   ]
  }
 ],
 "metadata": {
  "kernelspec": {
   "display_name": "BIOELO-RxFI7v_g",
   "language": "python",
   "name": "python3"
  },
  "language_info": {
   "codemirror_mode": {
    "name": "ipython",
    "version": 3
   },
   "file_extension": ".py",
   "mimetype": "text/x-python",
   "name": "python",
   "nbconvert_exporter": "python",
   "pygments_lexer": "ipython3",
   "version": "3.8.10"
  },
  "orig_nbformat": 4,
  "vscode": {
   "interpreter": {
    "hash": "968e8749a5baf933c2ceaa3506563618b6869e01c189e1e62168bc7f7ab3a8fe"
   }
  }
 },
 "nbformat": 4,
 "nbformat_minor": 2
}
